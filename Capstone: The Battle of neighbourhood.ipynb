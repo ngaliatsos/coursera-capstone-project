{
    "cells": [
        {
            "cell_type": "markdown",
            "metadata": {
                "collapsed": true
            },
            "source": "1. Introduction/ Business Problem\n\nChicago saw a major rise in violent crime starting in the late 1960s. Murders in the city peaked in 1974, with 970 murders when the city's population was over three million, resulting in a murder rate of around 29 per 100,000, and again in 1992, with 943 murders when the city had fewer than three million people, resulting in a murder rate of 34 murders per 100,000 citizen. Chicago reduced a murder rate in 2018. The municipal authorities want to keep this trend. They outsourced to prepare a report which is to identify crime patterns in Chicago.\nThe report should provide answers for below questions including difference between overall crimes and homicides:\n- When crimes are committed? \n\n- Which community areas are the most dangerous? (crimes per 1000 inhabitants)\n\n- Are police departments properly located? (Foursquare location)"
        },
        {
            "cell_type": "markdown",
            "metadata": {},
            "source": "2. Data section\n\nThe sources of data are official websites: https://data.cityofchicago.org and https://www.chicago.gov\nIn particular, the two specific datasets can be found at the following links:\n\n- https://data.cityofchicago.org/Public-Safety/Crimes-2018/3i3m-jwuy\n- https://raw.githubusercontent.com/piotr-ek7/Coursera_Capstone/master/Population.csv\n\nFinally two tables were created:\ntotal - containing all crimes\nhomicide - containing this kind of crime\n\nBoth tables consist of 15 columns which determine:\n- Time of crime \n- Crime location (Block, Location Description,Longitude, Latitude, Community Area, Community Area Description)\n- Crime classification (Case number, Primary Type, Arrest)\n- Police assignment (Beat, District)"
        },
        {
            "cell_type": "code",
            "execution_count": null,
            "metadata": {},
            "outputs": [],
            "source": ""
        }
    ],
    "metadata": {
        "kernelspec": {
            "display_name": "Python 3.6",
            "language": "python",
            "name": "python3"
        },
        "language_info": {
            "codemirror_mode": {
                "name": "ipython",
                "version": 3
            },
            "file_extension": ".py",
            "mimetype": "text/x-python",
            "name": "python",
            "nbconvert_exporter": "python",
            "pygments_lexer": "ipython3",
            "version": "3.6.8"
        }
    },
    "nbformat": 4,
    "nbformat_minor": 1
}